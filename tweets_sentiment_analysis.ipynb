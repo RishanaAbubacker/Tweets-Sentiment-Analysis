{
  "nbformat": 4,
  "nbformat_minor": 0,
  "metadata": {
    "colab": {
      "name": "tweets_sentiment_analysis.ipynb",
      "provenance": [],
      "collapsed_sections": [
        "oNP5gQKIhARA"
      ],
      "mount_file_id": "1m199ASza4I9kwh4oW1mUB7m9GTi5qCUC",
      "authorship_tag": "ABX9TyNWF0UFepJtS4KCOQudEAw0"
    },
    "kernelspec": {
      "name": "python3",
      "display_name": "Python 3"
    },
    "language_info": {
      "name": "python"
    },
    "accelerator": "GPU"
  },
  "cells": [
    {
      "cell_type": "markdown",
      "metadata": {
        "id": "7Pu_DRmBMSxO"
      },
      "source": [
        "**Context:**\n",
        "\n",
        "---\n",
        "\n",
        "\n",
        "This is the sentiment140 dataset. It contains 1,600,000 tweets extracted using the twitter api . The tweets have been annotated (0 = negative, 4 = positive) and they can be used to detect sentiment .\n",
        "\n",
        "**Content:**\n",
        "\n",
        "---\n",
        "\n",
        "\n",
        "It contains the following 6 fields:\n",
        "\n",
        "target: the polarity of the tweet (0 = negative, 2 = neutral, 4 = positive)\n",
        "\n",
        "ids: The id of the tweet ( 2087)\n",
        "\n",
        "date: the date of the tweet (Sat May 16 23:58:44 UTC 2009)\n",
        "\n",
        "flag: The query (lyx). If there is no query, then this value is NO_QUERY.\n",
        "\n",
        "user: the user that tweeted (robotickilldozr)\n",
        "\n",
        "text: the text of the tweet (Lyx is cool)"
      ]
    },
    {
      "cell_type": "markdown",
      "metadata": {
        "id": "dPY89aQp_dzj"
      },
      "source": [
        "# **I. Analytic Libraries**\n",
        "\n",
        "---\n",
        "\n",
        "Python has been built with extraordinary Python libraries for data science that are used by programmers every day in solving problems"
      ]
    },
    {
      "cell_type": "markdown",
      "metadata": {
        "id": "v2Bh57VoUKPZ"
      },
      "source": [
        "**Importing the Python libraries**"
      ]
    },
    {
      "cell_type": "markdown",
      "metadata": {
        "id": "b7dZV4PXK3L1"
      },
      "source": [
        "To begin with Import all the neccessary libraries and modules"
      ]
    },
    {
      "cell_type": "code",
      "metadata": {
        "id": "TyO8I0j9DOlo",
        "colab": {
          "base_uri": "https://localhost:8080/"
        },
        "outputId": "e02e4ce7-6290-4d8c-e2a2-56b98995e98d"
      },
      "source": [
        "# Analysis Tools\n",
        "import numpy as np\n",
        "import pandas as pd\n",
        "from sklearn.preprocessing import LabelEncoder\n",
        "from sklearn.model_selection import train_test_split\n",
        "\n",
        "\n",
        "import warnings\n",
        "warnings.filterwarnings(\"ignore\", category=UserWarning, module='bs4')\n",
        "\n",
        "# Visualization Tools\n",
        "import seaborn as sns\n",
        "import matplotlib.pyplot as plt\n",
        "\n",
        "# Text processing tools\n",
        "import re\n",
        "import nltk\n",
        "nltk.download('stopwords')\n",
        "from nltk import word_tokenize\n",
        "nltk.download('punkt')\n",
        "from nltk.corpus import stopwords\n",
        "from  nltk.stem import SnowballStemmer\n",
        "from wordcloud import WordCloud, STOPWORDS\n"
      ],
      "execution_count": 1,
      "outputs": [
        {
          "output_type": "stream",
          "text": [
            "[nltk_data] Downloading package stopwords to /root/nltk_data...\n",
            "[nltk_data]   Package stopwords is already up-to-date!\n",
            "[nltk_data] Downloading package punkt to /root/nltk_data...\n",
            "[nltk_data]   Package punkt is already up-to-date!\n"
          ],
          "name": "stdout"
        }
      ]
    },
    {
      "cell_type": "markdown",
      "metadata": {
        "id": "gOZxENxrAUB9"
      },
      "source": [
        "# **II. Dataset Processing**\n",
        "\n",
        "---\n",
        "\n"
      ]
    },
    {
      "cell_type": "markdown",
      "metadata": {
        "id": "kTKI1ZB0PATi"
      },
      "source": [
        "Data processing is the collection and manipulation of items of data to produce meaningful information"
      ]
    },
    {
      "cell_type": "markdown",
      "metadata": {
        "id": "ak3-My3SgkN8"
      },
      "source": [
        "**A. Mounting Drive**"
      ]
    },
    {
      "cell_type": "markdown",
      "metadata": {
        "id": "utIFCTrhM0KJ"
      },
      "source": [
        "Dataset is read from drive"
      ]
    },
    {
      "cell_type": "code",
      "metadata": {
        "colab": {
          "base_uri": "https://localhost:8080/"
        },
        "id": "xgI6L4TR4cna",
        "outputId": "b8e063ec-52cc-41b3-b535-3e3ceea9f930"
      },
      "source": [
        "from google.colab import drive\n",
        "drive.mount('/content/drive')"
      ],
      "execution_count": 2,
      "outputs": [
        {
          "output_type": "stream",
          "text": [
            "Drive already mounted at /content/drive; to attempt to forcibly remount, call drive.mount(\"/content/drive\", force_remount=True).\n"
          ],
          "name": "stdout"
        }
      ]
    },
    {
      "cell_type": "markdown",
      "metadata": {
        "id": "oen2n2S3HA9J"
      },
      "source": [
        "**B. Loading the Dataset**"
      ]
    },
    {
      "cell_type": "markdown",
      "metadata": {
        "id": "BCY-a8w8LHpZ"
      },
      "source": [
        "Read the csv file into a dataframe from the drive by mentioning the encoding inorder to resolve the UnicodeDecode error"
      ]
    },
    {
      "cell_type": "code",
      "metadata": {
        "id": "GPQdM6_AGsVr"
      },
      "source": [
        "data=pd.read_csv('/content/drive/MyDrive/training.1600000.processed.noemoticon.csv', encoding='ISO-8859–1')"
      ],
      "execution_count": 3,
      "outputs": []
    },
    {
      "cell_type": "markdown",
      "metadata": {
        "id": "jkgLFoZkt7IL"
      },
      "source": [
        "**B. Exploratory Data Analysis**"
      ]
    },
    {
      "cell_type": "markdown",
      "metadata": {
        "id": "_RDxePzP1-Vz"
      },
      "source": [
        "Exploratory Data Analysis refers to the critical process of performing initial investigations on data for better understanding of data"
      ]
    },
    {
      "cell_type": "code",
      "metadata": {
        "colab": {
          "base_uri": "https://localhost:8080/",
          "height": 297
        },
        "id": "LVSqPA9SgTLC",
        "outputId": "c90ba883-7e04-4793-8bee-2125d7b7e6a5"
      },
      "source": [
        "# Displaying first five rows of the dataset\n",
        "data.head()"
      ],
      "execution_count": 4,
      "outputs": [
        {
          "output_type": "execute_result",
          "data": {
            "text/html": [
              "<div>\n",
              "<style scoped>\n",
              "    .dataframe tbody tr th:only-of-type {\n",
              "        vertical-align: middle;\n",
              "    }\n",
              "\n",
              "    .dataframe tbody tr th {\n",
              "        vertical-align: top;\n",
              "    }\n",
              "\n",
              "    .dataframe thead th {\n",
              "        text-align: right;\n",
              "    }\n",
              "</style>\n",
              "<table border=\"1\" class=\"dataframe\">\n",
              "  <thead>\n",
              "    <tr style=\"text-align: right;\">\n",
              "      <th></th>\n",
              "      <th>0</th>\n",
              "      <th>1467810369</th>\n",
              "      <th>Mon Apr 06 22:19:45 PDT 2009</th>\n",
              "      <th>NO_QUERY</th>\n",
              "      <th>_TheSpecialOne_</th>\n",
              "      <th>@switchfoot http://twitpic.com/2y1zl - Awww, that's a bummer.  You shoulda got David Carr of Third Day to do it. ;D</th>\n",
              "    </tr>\n",
              "  </thead>\n",
              "  <tbody>\n",
              "    <tr>\n",
              "      <th>0</th>\n",
              "      <td>0</td>\n",
              "      <td>1467810672</td>\n",
              "      <td>Mon Apr 06 22:19:49 PDT 2009</td>\n",
              "      <td>NO_QUERY</td>\n",
              "      <td>scotthamilton</td>\n",
              "      <td>is upset that he can't update his Facebook by ...</td>\n",
              "    </tr>\n",
              "    <tr>\n",
              "      <th>1</th>\n",
              "      <td>0</td>\n",
              "      <td>1467810917</td>\n",
              "      <td>Mon Apr 06 22:19:53 PDT 2009</td>\n",
              "      <td>NO_QUERY</td>\n",
              "      <td>mattycus</td>\n",
              "      <td>@Kenichan I dived many times for the ball. Man...</td>\n",
              "    </tr>\n",
              "    <tr>\n",
              "      <th>2</th>\n",
              "      <td>0</td>\n",
              "      <td>1467811184</td>\n",
              "      <td>Mon Apr 06 22:19:57 PDT 2009</td>\n",
              "      <td>NO_QUERY</td>\n",
              "      <td>ElleCTF</td>\n",
              "      <td>my whole body feels itchy and like its on fire</td>\n",
              "    </tr>\n",
              "    <tr>\n",
              "      <th>3</th>\n",
              "      <td>0</td>\n",
              "      <td>1467811193</td>\n",
              "      <td>Mon Apr 06 22:19:57 PDT 2009</td>\n",
              "      <td>NO_QUERY</td>\n",
              "      <td>Karoli</td>\n",
              "      <td>@nationwideclass no, it's not behaving at all....</td>\n",
              "    </tr>\n",
              "    <tr>\n",
              "      <th>4</th>\n",
              "      <td>0</td>\n",
              "      <td>1467811372</td>\n",
              "      <td>Mon Apr 06 22:20:00 PDT 2009</td>\n",
              "      <td>NO_QUERY</td>\n",
              "      <td>joy_wolf</td>\n",
              "      <td>@Kwesidei not the whole crew</td>\n",
              "    </tr>\n",
              "  </tbody>\n",
              "</table>\n",
              "</div>"
            ],
            "text/plain": [
              "   0  ...  @switchfoot http://twitpic.com/2y1zl - Awww, that's a bummer.  You shoulda got David Carr of Third Day to do it. ;D\n",
              "0  0  ...  is upset that he can't update his Facebook by ...                                                                  \n",
              "1  0  ...  @Kenichan I dived many times for the ball. Man...                                                                  \n",
              "2  0  ...    my whole body feels itchy and like its on fire                                                                   \n",
              "3  0  ...  @nationwideclass no, it's not behaving at all....                                                                  \n",
              "4  0  ...                      @Kwesidei not the whole crew                                                                   \n",
              "\n",
              "[5 rows x 6 columns]"
            ]
          },
          "metadata": {},
          "execution_count": 4
        }
      ]
    },
    {
      "cell_type": "markdown",
      "metadata": {
        "id": "pMByK215G1Kp"
      },
      "source": [
        "Observation:  Columns are without any proper names. Need to rename columns for reference."
      ]
    },
    {
      "cell_type": "code",
      "metadata": {
        "colab": {
          "base_uri": "https://localhost:8080/",
          "height": 200
        },
        "id": "xvjBbUe8HTsY",
        "outputId": "d5241e15-0474-488e-9497-7c2d5c3b778a"
      },
      "source": [
        "# Column names\n",
        "data.columns=['TweetPolarity', 'TweetID', 'TweetDate', 'Flag', 'UserName', 'Text']\n",
        "# Displayibg first 5 rows of the dataset\n",
        "data.head()"
      ],
      "execution_count": 5,
      "outputs": [
        {
          "output_type": "execute_result",
          "data": {
            "text/html": [
              "<div>\n",
              "<style scoped>\n",
              "    .dataframe tbody tr th:only-of-type {\n",
              "        vertical-align: middle;\n",
              "    }\n",
              "\n",
              "    .dataframe tbody tr th {\n",
              "        vertical-align: top;\n",
              "    }\n",
              "\n",
              "    .dataframe thead th {\n",
              "        text-align: right;\n",
              "    }\n",
              "</style>\n",
              "<table border=\"1\" class=\"dataframe\">\n",
              "  <thead>\n",
              "    <tr style=\"text-align: right;\">\n",
              "      <th></th>\n",
              "      <th>TweetPolarity</th>\n",
              "      <th>TweetID</th>\n",
              "      <th>TweetDate</th>\n",
              "      <th>Flag</th>\n",
              "      <th>UserName</th>\n",
              "      <th>Text</th>\n",
              "    </tr>\n",
              "  </thead>\n",
              "  <tbody>\n",
              "    <tr>\n",
              "      <th>0</th>\n",
              "      <td>0</td>\n",
              "      <td>1467810672</td>\n",
              "      <td>Mon Apr 06 22:19:49 PDT 2009</td>\n",
              "      <td>NO_QUERY</td>\n",
              "      <td>scotthamilton</td>\n",
              "      <td>is upset that he can't update his Facebook by ...</td>\n",
              "    </tr>\n",
              "    <tr>\n",
              "      <th>1</th>\n",
              "      <td>0</td>\n",
              "      <td>1467810917</td>\n",
              "      <td>Mon Apr 06 22:19:53 PDT 2009</td>\n",
              "      <td>NO_QUERY</td>\n",
              "      <td>mattycus</td>\n",
              "      <td>@Kenichan I dived many times for the ball. Man...</td>\n",
              "    </tr>\n",
              "    <tr>\n",
              "      <th>2</th>\n",
              "      <td>0</td>\n",
              "      <td>1467811184</td>\n",
              "      <td>Mon Apr 06 22:19:57 PDT 2009</td>\n",
              "      <td>NO_QUERY</td>\n",
              "      <td>ElleCTF</td>\n",
              "      <td>my whole body feels itchy and like its on fire</td>\n",
              "    </tr>\n",
              "    <tr>\n",
              "      <th>3</th>\n",
              "      <td>0</td>\n",
              "      <td>1467811193</td>\n",
              "      <td>Mon Apr 06 22:19:57 PDT 2009</td>\n",
              "      <td>NO_QUERY</td>\n",
              "      <td>Karoli</td>\n",
              "      <td>@nationwideclass no, it's not behaving at all....</td>\n",
              "    </tr>\n",
              "    <tr>\n",
              "      <th>4</th>\n",
              "      <td>0</td>\n",
              "      <td>1467811372</td>\n",
              "      <td>Mon Apr 06 22:20:00 PDT 2009</td>\n",
              "      <td>NO_QUERY</td>\n",
              "      <td>joy_wolf</td>\n",
              "      <td>@Kwesidei not the whole crew</td>\n",
              "    </tr>\n",
              "  </tbody>\n",
              "</table>\n",
              "</div>"
            ],
            "text/plain": [
              "   TweetPolarity  ...                                               Text\n",
              "0              0  ...  is upset that he can't update his Facebook by ...\n",
              "1              0  ...  @Kenichan I dived many times for the ball. Man...\n",
              "2              0  ...    my whole body feels itchy and like its on fire \n",
              "3              0  ...  @nationwideclass no, it's not behaving at all....\n",
              "4              0  ...                      @Kwesidei not the whole crew \n",
              "\n",
              "[5 rows x 6 columns]"
            ]
          },
          "metadata": {},
          "execution_count": 5
        }
      ]
    },
    {
      "cell_type": "markdown",
      "metadata": {
        "id": "kLHX6gFTP-jG"
      },
      "source": [
        "Observation: Columns have been renamed with provided names"
      ]
    },
    {
      "cell_type": "code",
      "metadata": {
        "colab": {
          "base_uri": "https://localhost:8080/",
          "height": 200
        },
        "id": "fefG5dekgUrx",
        "outputId": "2180e0c2-394e-48a5-f67b-865b21fbf37a"
      },
      "source": [
        "# Displaying last five rows of the dataset\n",
        "data.tail()"
      ],
      "execution_count": 6,
      "outputs": [
        {
          "output_type": "execute_result",
          "data": {
            "text/html": [
              "<div>\n",
              "<style scoped>\n",
              "    .dataframe tbody tr th:only-of-type {\n",
              "        vertical-align: middle;\n",
              "    }\n",
              "\n",
              "    .dataframe tbody tr th {\n",
              "        vertical-align: top;\n",
              "    }\n",
              "\n",
              "    .dataframe thead th {\n",
              "        text-align: right;\n",
              "    }\n",
              "</style>\n",
              "<table border=\"1\" class=\"dataframe\">\n",
              "  <thead>\n",
              "    <tr style=\"text-align: right;\">\n",
              "      <th></th>\n",
              "      <th>TweetPolarity</th>\n",
              "      <th>TweetID</th>\n",
              "      <th>TweetDate</th>\n",
              "      <th>Flag</th>\n",
              "      <th>UserName</th>\n",
              "      <th>Text</th>\n",
              "    </tr>\n",
              "  </thead>\n",
              "  <tbody>\n",
              "    <tr>\n",
              "      <th>1599994</th>\n",
              "      <td>4</td>\n",
              "      <td>2193601966</td>\n",
              "      <td>Tue Jun 16 08:40:49 PDT 2009</td>\n",
              "      <td>NO_QUERY</td>\n",
              "      <td>AmandaMarie1028</td>\n",
              "      <td>Just woke up. Having no school is the best fee...</td>\n",
              "    </tr>\n",
              "    <tr>\n",
              "      <th>1599995</th>\n",
              "      <td>4</td>\n",
              "      <td>2193601969</td>\n",
              "      <td>Tue Jun 16 08:40:49 PDT 2009</td>\n",
              "      <td>NO_QUERY</td>\n",
              "      <td>TheWDBoards</td>\n",
              "      <td>TheWDB.com - Very cool to hear old Walt interv...</td>\n",
              "    </tr>\n",
              "    <tr>\n",
              "      <th>1599996</th>\n",
              "      <td>4</td>\n",
              "      <td>2193601991</td>\n",
              "      <td>Tue Jun 16 08:40:49 PDT 2009</td>\n",
              "      <td>NO_QUERY</td>\n",
              "      <td>bpbabe</td>\n",
              "      <td>Are you ready for your MoJo Makeover? Ask me f...</td>\n",
              "    </tr>\n",
              "    <tr>\n",
              "      <th>1599997</th>\n",
              "      <td>4</td>\n",
              "      <td>2193602064</td>\n",
              "      <td>Tue Jun 16 08:40:49 PDT 2009</td>\n",
              "      <td>NO_QUERY</td>\n",
              "      <td>tinydiamondz</td>\n",
              "      <td>Happy 38th Birthday to my boo of alll time!!! ...</td>\n",
              "    </tr>\n",
              "    <tr>\n",
              "      <th>1599998</th>\n",
              "      <td>4</td>\n",
              "      <td>2193602129</td>\n",
              "      <td>Tue Jun 16 08:40:50 PDT 2009</td>\n",
              "      <td>NO_QUERY</td>\n",
              "      <td>RyanTrevMorris</td>\n",
              "      <td>happy #charitytuesday @theNSPCC @SparksCharity...</td>\n",
              "    </tr>\n",
              "  </tbody>\n",
              "</table>\n",
              "</div>"
            ],
            "text/plain": [
              "         TweetPolarity  ...                                               Text\n",
              "1599994              4  ...  Just woke up. Having no school is the best fee...\n",
              "1599995              4  ...  TheWDB.com - Very cool to hear old Walt interv...\n",
              "1599996              4  ...  Are you ready for your MoJo Makeover? Ask me f...\n",
              "1599997              4  ...  Happy 38th Birthday to my boo of alll time!!! ...\n",
              "1599998              4  ...  happy #charitytuesday @theNSPCC @SparksCharity...\n",
              "\n",
              "[5 rows x 6 columns]"
            ]
          },
          "metadata": {},
          "execution_count": 6
        }
      ]
    },
    {
      "cell_type": "code",
      "metadata": {
        "colab": {
          "base_uri": "https://localhost:8080/"
        },
        "id": "o9UvZpntgX9y",
        "outputId": "b9e3a39c-6de3-4887-cc8a-34452ca787f0"
      },
      "source": [
        "# Rows and columns\n",
        "data.shape"
      ],
      "execution_count": 7,
      "outputs": [
        {
          "output_type": "execute_result",
          "data": {
            "text/plain": [
              "(1599999, 6)"
            ]
          },
          "metadata": {},
          "execution_count": 7
        }
      ]
    },
    {
      "cell_type": "markdown",
      "metadata": {
        "id": "j_xQMNs8z40V"
      },
      "source": [
        "Observation: There are 6 features with 16,00,000 entries in the dataset"
      ]
    },
    {
      "cell_type": "code",
      "metadata": {
        "colab": {
          "base_uri": "https://localhost:8080/"
        },
        "id": "_KTExkTSZ_bP",
        "outputId": "79245f9e-fa07-4fe5-bc77-c5c38936100e"
      },
      "source": [
        "# Datatypes\n",
        "data.dtypes"
      ],
      "execution_count": 8,
      "outputs": [
        {
          "output_type": "execute_result",
          "data": {
            "text/plain": [
              "TweetPolarity     int64\n",
              "TweetID           int64\n",
              "TweetDate        object\n",
              "Flag             object\n",
              "UserName         object\n",
              "Text             object\n",
              "dtype: object"
            ]
          },
          "metadata": {},
          "execution_count": 8
        }
      ]
    },
    {
      "cell_type": "markdown",
      "metadata": {
        "id": "gI9Y16l30BpA"
      },
      "source": [
        "Observation: 2 features are of integer datatypes and rest of the features are object datatype"
      ]
    },
    {
      "cell_type": "code",
      "metadata": {
        "colab": {
          "base_uri": "https://localhost:8080/"
        },
        "id": "4b-fZfgNgdQ_",
        "outputId": "8f64ce8c-69c7-4734-b6d4-af5cc98c0c69"
      },
      "source": [
        "# More information about data\n",
        "data.info()"
      ],
      "execution_count": 9,
      "outputs": [
        {
          "output_type": "stream",
          "text": [
            "<class 'pandas.core.frame.DataFrame'>\n",
            "RangeIndex: 1599999 entries, 0 to 1599998\n",
            "Data columns (total 6 columns):\n",
            " #   Column         Non-Null Count    Dtype \n",
            "---  ------         --------------    ----- \n",
            " 0   TweetPolarity  1599999 non-null  int64 \n",
            " 1   TweetID        1599999 non-null  int64 \n",
            " 2   TweetDate      1599999 non-null  object\n",
            " 3   Flag           1599999 non-null  object\n",
            " 4   UserName       1599999 non-null  object\n",
            " 5   Text           1599999 non-null  object\n",
            "dtypes: int64(2), object(4)\n",
            "memory usage: 73.2+ MB\n"
          ],
          "name": "stdout"
        }
      ]
    },
    {
      "cell_type": "markdown",
      "metadata": {
        "id": "x--25c-7YcFv"
      },
      "source": [
        "Observation: Tweet dates are given as string datatype"
      ]
    },
    {
      "cell_type": "code",
      "metadata": {
        "colab": {
          "base_uri": "https://localhost:8080/"
        },
        "id": "RSSfOduhgaGG",
        "outputId": "75c53793-5360-4818-b645-a1018c01818a"
      },
      "source": [
        "# Null value count\n",
        "data.isnull().sum()"
      ],
      "execution_count": 10,
      "outputs": [
        {
          "output_type": "execute_result",
          "data": {
            "text/plain": [
              "TweetPolarity    0\n",
              "TweetID          0\n",
              "TweetDate        0\n",
              "Flag             0\n",
              "UserName         0\n",
              "Text             0\n",
              "dtype: int64"
            ]
          },
          "metadata": {},
          "execution_count": 10
        }
      ]
    },
    {
      "cell_type": "markdown",
      "metadata": {
        "id": "bf8atP280PbO"
      },
      "source": [
        "Observation: There are no null value present"
      ]
    },
    {
      "cell_type": "code",
      "metadata": {
        "colab": {
          "base_uri": "https://localhost:8080/"
        },
        "id": "ZtQQk_ciqxw7",
        "outputId": "dfc2eadd-2fc4-45a1-b166-56cd1e15a787"
      },
      "source": [
        "# Unique value count\n",
        "for i in data.columns:\n",
        "    print(i,':',data[i].nunique(),'\\n')"
      ],
      "execution_count": 11,
      "outputs": [
        {
          "output_type": "stream",
          "text": [
            "TweetPolarity : 2 \n",
            "\n",
            "TweetID : 1598314 \n",
            "\n",
            "TweetDate : 774362 \n",
            "\n",
            "Flag : 1 \n",
            "\n",
            "UserName : 659775 \n",
            "\n",
            "Text : 1581465 \n",
            "\n"
          ],
          "name": "stdout"
        }
      ]
    },
    {
      "cell_type": "markdown",
      "metadata": {
        "id": "J0L1hmUCNpfn"
      },
      "source": [
        "Observation:\n",
        "\n",
        "1.   TweetPolarity has 2 categories\n",
        "2.   Flag has one category\n",
        "3.   Users are not unique"
      ]
    },
    {
      "cell_type": "code",
      "metadata": {
        "colab": {
          "base_uri": "https://localhost:8080/"
        },
        "id": "GPz1EgdyqFej",
        "outputId": "cac211ce-2c3f-45f7-f869-b8b87a931ed1"
      },
      "source": [
        "# Value counts for each feature\n",
        "for i in data.columns:\n",
        "  print(\"----------------\")\n",
        "  print((data[i].value_counts()).to_frame(),'\\n')\n",
        " "
      ],
      "execution_count": 12,
      "outputs": [
        {
          "output_type": "stream",
          "text": [
            "----------------\n",
            "   TweetPolarity\n",
            "4         800000\n",
            "0         799999 \n",
            "\n",
            "----------------\n",
            "            TweetID\n",
            "1753678185        2\n",
            "1678693526        2\n",
            "1835870889        2\n",
            "2190104868        2\n",
            "1984377787        2\n",
            "...             ...\n",
            "2056931811        1\n",
            "2212131300        1\n",
            "2188589814        1\n",
            "1983537638        1\n",
            "1964587131        1\n",
            "\n",
            "[1598314 rows x 1 columns] \n",
            "\n",
            "----------------\n",
            "                              TweetDate\n",
            "Mon Jun 15 12:53:14 PDT 2009         20\n",
            "Mon Jun 15 13:39:50 PDT 2009         17\n",
            "Fri May 29 13:40:04 PDT 2009         17\n",
            "Fri May 22 05:10:17 PDT 2009         17\n",
            "Fri Jun 05 14:13:07 PDT 2009         16\n",
            "...                                 ...\n",
            "Sat Jun 20 17:45:10 PDT 2009          1\n",
            "Tue Apr 07 03:46:04 PDT 2009          1\n",
            "Wed Jun 17 03:30:08 PDT 2009          1\n",
            "Mon Jun 22 16:27:42 PDT 2009          1\n",
            "Mon Jun 01 18:25:55 PDT 2009          1\n",
            "\n",
            "[774362 rows x 1 columns] \n",
            "\n",
            "----------------\n",
            "             Flag\n",
            "NO_QUERY  1599999 \n",
            "\n",
            "----------------\n",
            "                 UserName\n",
            "lost_dog              549\n",
            "webwoke               345\n",
            "tweetpet              310\n",
            "SallytheShizzle       281\n",
            "VioletsCRUK           279\n",
            "...                   ...\n",
            "RedSam90                1\n",
            "josebenedict            1\n",
            "Veronica89rg            1\n",
            "hardcore_baybeh         1\n",
            "SilvanaCorsetti         1\n",
            "\n",
            "[659775 rows x 1 columns] \n",
            "\n",
            "----------------\n",
            "                                                    Text\n",
            "isPlayer Has Died! Sorry                             210\n",
            "good morning                                         118\n",
            "headache                                             115\n",
            "Good morning                                         112\n",
            "Headache                                             106\n",
            "...                                                  ...\n",
            "photoshoot day.. back from haw par villa               1\n",
            "I LOVE my new youth group! The leader is so coo...     1\n",
            "@blackaristocrat I just got done! thank the lawd       1\n",
            "aww my grandparents won't be joining our trip o...     1\n",
            "@jiminthemorning love this song!                       1\n",
            "\n",
            "[1581465 rows x 1 columns] \n",
            "\n"
          ],
          "name": "stdout"
        }
      ]
    },
    {
      "cell_type": "markdown",
      "metadata": {
        "id": "MPZ2JKra0WDk"
      },
      "source": [
        "Observation:\n",
        "\n",
        "1.   TweetPolarity has 2 categories, 0: Positive & 4: Negative\n",
        "2.   Flag has only category with no queries \n",
        "\n"
      ]
    },
    {
      "cell_type": "markdown",
      "metadata": {
        "id": "dPyIMtSJcufE"
      },
      "source": [
        "# **III. Data Preprocessing**\n",
        "\n",
        "---\n",
        "\n"
      ]
    },
    {
      "cell_type": "markdown",
      "metadata": {
        "id": "E68deV4vO0qL"
      },
      "source": [
        "Data preprocessing is a data mining technique which is used to transform the raw data in a useful and efficient form"
      ]
    },
    {
      "cell_type": "markdown",
      "metadata": {
        "id": "xqIGga6592tB"
      },
      "source": [
        "**Tweet polarity**"
      ]
    },
    {
      "cell_type": "code",
      "metadata": {
        "id": "s9GgYPY32GFG"
      },
      "source": [
        "# Decoding data into categories as positive and negative based on polairty of tweets 0: Negative and 4: Positive as directed by the datset desciption.\n",
        "data['TweetPolarity']=np.where(data['TweetPolarity']==0, \"Negative\", data['TweetPolarity'])\n",
        "data['TweetPolarity']=np.where(data['TweetPolarity']=='4', \"Positive\", data['TweetPolarity'])"
      ],
      "execution_count": 13,
      "outputs": []
    },
    {
      "cell_type": "code",
      "metadata": {
        "colab": {
          "base_uri": "https://localhost:8080/"
        },
        "id": "vx8W-qL03TTL",
        "outputId": "9cfc0387-ea44-44df-c452-3941f2a604c5"
      },
      "source": [
        "# Value counts of polaity of tweets after decoding\n",
        "data['TweetPolarity'].value_counts()"
      ],
      "execution_count": 14,
      "outputs": [
        {
          "output_type": "execute_result",
          "data": {
            "text/plain": [
              "Positive    800000\n",
              "Negative    799999\n",
              "Name: TweetPolarity, dtype: int64"
            ]
          },
          "metadata": {},
          "execution_count": 14
        }
      ]
    },
    {
      "cell_type": "markdown",
      "metadata": {
        "id": "oNP5gQKIhARA"
      },
      "source": [
        "#**IV. Text Processing**\n",
        "\n",
        "---\n",
        "\n"
      ]
    },
    {
      "cell_type": "markdown",
      "metadata": {
        "id": "2i0Gtb4XOJS-"
      },
      "source": [
        "Text processing is the automated process of analyzing and sorting unstructured text data to gain valuable insights. For grammatical reasons, documents are going to use different forms of a word, such as write, writing and writes. Additionally, there are families of derivationally related words with similar meanings. NLTK is a python library which got functions to perform text processing task for NLP.Tweet texts often consists of other user mentions, hyperlink texts, emoticons and punctuations. In order to use them for learning using a Language Model. We cannot permit those texts for training a model. So we have to clean the text data using various preprocessing and cleansing methods.\n",
        "\n",
        "*   Stemming: \n",
        "Stemming usually refers to a process that chops off the ends of words in the hope of achieving goal correctly most of the time and often includes the removal of derivational affixes.The goal of both stemming and lemmatization is to reduce inflectional forms and sometimes derivationally related forms of a word to a common base form.\n",
        "\n",
        "*  Hyperlinks and Mentions\n",
        "Twitter is a social media platform where people can tag and mentions other people's ID and share videos and blogs from internet. So the tweets often contain lots of Hyperlinks and twitter mentions.\n",
        "\n",
        "*  Stopwords\n",
        "stopwords are commonly used words in English which have no contextual meaning in an sentence."
      ]
    },
    {
      "cell_type": "code",
      "metadata": {
        "id": "DZjDHAM8fxBO"
      },
      "source": [
        "# converting rows having data other than string datatype into string.\n",
        "for i in range(0,len(data)-1):\n",
        "    if type(data.iloc[i]['Text']) != str:\n",
        "        data.iloc[i]['Text'] = str(data.iloc[i]['Text'])"
      ],
      "execution_count": 15,
      "outputs": []
    },
    {
      "cell_type": "markdown",
      "metadata": {
        "id": "O1-YP3O2KRNn"
      },
      "source": [
        "**Word cloud**"
      ]
    },
    {
      "cell_type": "markdown",
      "metadata": {
        "id": "2-AFDk6wKUTN"
      },
      "source": [
        "A word cloud is a collection, or cluster, of words depicted in different sizes. The bigger and bolder the word appears, the more often it’s mentioned within a given text and the more important it is."
      ]
    },
    {
      "cell_type": "code",
      "metadata": {
        "id": "dT7jbr5GVMsV"
      },
      "source": [
        "# Defining function for plotting wordcloud\n",
        "def plot_wordcloud(text, mask=None, max_words=200, max_font_size=100, figure_size=(24.0,16.0), \n",
        "                   title = None, title_size=40, image_color=False):\n",
        "    stopwords = set(STOPWORDS)\n",
        "    more_stopwords = {'one', 'br', 'Po', 'th', 'sayi', 'fo', 'Unknown'}\n",
        "    stopwords = stopwords.union(more_stopwords)\n",
        "\n",
        "    wordcloud = WordCloud(background_color='white',\n",
        "                    stopwords = stopwords,\n",
        "                    max_words = max_words,\n",
        "                    max_font_size = max_font_size, \n",
        "                    random_state = 42,\n",
        "                    width=800, \n",
        "                    height=400,\n",
        "                    mask = mask)\n",
        "    wordcloud.generate(str(text))\n",
        "    plt.figure(figsize=figure_size)\n",
        "    if image_color:\n",
        "        image_colors = ImageColorGenerator(mask);\n",
        "        plt.imshow(wordcloud.recolor(color_func=image_colors), interpolation=\"bilinear\");\n",
        "        plt.title(title, fontdict={'size': title_size,  \n",
        "                                  'verticalalignment': 'bottom'})\n",
        "    else:\n",
        "        plt.imshow(wordcloud);\n",
        "        plt.title(title, fontdict={'size': title_size, 'color': 'black', \n",
        "                                  'verticalalignment': 'bottom'})\n",
        "    plt.axis('off');\n",
        "    plt.tight_layout()  "
      ],
      "execution_count": null,
      "outputs": []
    },
    {
      "cell_type": "markdown",
      "metadata": {
        "id": "friGQtWQ3Edq"
      },
      "source": [
        "**Stopwords**"
      ]
    },
    {
      "cell_type": "code",
      "metadata": {
        "id": "osHTtBmXJogu"
      },
      "source": [
        "# Stopwords\n",
        "stop_words = set(stopwords.words('english'))"
      ],
      "execution_count": null,
      "outputs": []
    },
    {
      "cell_type": "code",
      "metadata": {
        "id": "2LmX9PUE_TnA"
      },
      "source": [
        "# Word cloud for stopwords\n",
        "plot_wordcloud(stop_words, title=\"Word Cloud of stopwords\")\n",
        "plt.show()"
      ],
      "execution_count": null,
      "outputs": []
    },
    {
      "cell_type": "markdown",
      "metadata": {
        "id": "qR8viaSUaMAk"
      },
      "source": [
        "Observation: Stopwords need to be removed from the tweets text before classification"
      ]
    },
    {
      "cell_type": "markdown",
      "metadata": {
        "id": "BqmVkINgQeNy"
      },
      "source": [
        "**Text**"
      ]
    },
    {
      "cell_type": "code",
      "metadata": {
        "id": "5DdLd4qsSoU6"
      },
      "source": [
        "# Word cloud for text\n",
        "plot_wordcloud(data['Text'], title=\"Word Cloud of text\")\n",
        "plt.show()"
      ],
      "execution_count": null,
      "outputs": []
    },
    {
      "cell_type": "code",
      "metadata": {
        "id": "jY5cWuvq9nFF"
      },
      "source": [
        "# Function for text cleaning\n",
        "def clean_data(text, stem=False):\n",
        "  text = re.sub(\"@\\S+|https?:\\S+|http?:\\S|[^A-Za-z0-9]+\", ' ', str(text).lower()).strip()\n",
        "  tokens = []\n",
        "  stemmer = nltk.SnowballStemmer(\"english\")\n",
        "  for token in text.split():\n",
        "    if token not in stop_words:\n",
        "      if stem:\n",
        "        tokens.append(stemmer.stem(token))\n",
        "      else:\n",
        "        tokens.append(token)\n",
        "  return \" \".join(tokens)"
      ],
      "execution_count": null,
      "outputs": []
    },
    {
      "cell_type": "code",
      "metadata": {
        "id": "rmMPNBJ7_WI0"
      },
      "source": [
        "# Cleaning text\n",
        "data.Text = data.Text.apply(lambda x: clean_data(x))"
      ],
      "execution_count": null,
      "outputs": []
    },
    {
      "cell_type": "code",
      "metadata": {
        "id": "nuljTpIpKdig"
      },
      "source": [
        "data['Text']"
      ],
      "execution_count": null,
      "outputs": []
    },
    {
      "cell_type": "markdown",
      "metadata": {
        "id": "EIAToxfNgDh5"
      },
      "source": [
        "# **V. Data Analysis**\n",
        "\n",
        "---\n",
        "\n"
      ]
    },
    {
      "cell_type": "markdown",
      "metadata": {
        "id": "cDi0WgJfRl9p"
      },
      "source": [
        "The purpose of Data Analysis is to extract actionable insights, uncover useful information, identify the patterns and derive conclusions from the data."
      ]
    },
    {
      "cell_type": "markdown",
      "metadata": {
        "id": "y8ATMor2f-gL"
      },
      "source": [
        "**Data Visualization**"
      ]
    },
    {
      "cell_type": "markdown",
      "metadata": {
        "id": "3pWRqRvBSiv7"
      },
      "source": [
        "Data visualization is the graphical representation of information and data. By using visual elements like charts, graphs, and maps, data visualization tools provide an accessible way to see and understand trends, outliers, and patterns in data."
      ]
    },
    {
      "cell_type": "markdown",
      "metadata": {
        "id": "6IwrmwtSSn62"
      },
      "source": [
        "**1. Null value count**"
      ]
    },
    {
      "cell_type": "code",
      "metadata": {
        "id": "WvaXfNvRSHcP"
      },
      "source": [
        "# Plotting null value count\n",
        "null_values = (data.isnull().sum()).sort_values(ascending=False)\n",
        "null_values.plot(kind=\"bar\", figsize = (14,6), fontsize = 10, color='green')\n",
        "plt.xlabel(\"Columns\", fontsize = 20)\n",
        "plt.ylabel(\"\", fontsize = 20)\n",
        "plt.title(\"Total Missing Value \", fontsize = 20)"
      ],
      "execution_count": null,
      "outputs": []
    },
    {
      "cell_type": "markdown",
      "metadata": {
        "id": "_Zkb2dVh9o79"
      },
      "source": [
        "Observation: There are no null values"
      ]
    },
    {
      "cell_type": "markdown",
      "metadata": {
        "id": "sEb8T02aSvKY"
      },
      "source": [
        "**2. Pie plot of 'TweetPolarity'**"
      ]
    },
    {
      "cell_type": "code",
      "metadata": {
        "id": "ny1RrUzVgtmM"
      },
      "source": [
        "# Pie plot\n",
        "size = [data['TweetPolarity'].value_counts(normalize=True)[0], data['TweetPolarity'].value_counts(normalize=True)[1]]\n",
        "colors = ['red', 'navy']\n",
        "labels = 'Positive', 'Negative'\n",
        "explode = [0, 0.1]\n",
        "plt.rcParams['figure.figsize'] = (10, 10)\n",
        "plt.pie(size, colors = colors, labels = labels, explode = explode, autopct = '%.2f%%')\n",
        "plt.axis('off')\n",
        "plt.title('Pie Chart Representation of Side Effects', fontsize = 20)\n",
        "plt.legend()\n",
        "plt.show()"
      ],
      "execution_count": null,
      "outputs": []
    },
    {
      "cell_type": "markdown",
      "metadata": {
        "id": "pAZ6pmlldgQc"
      },
      "source": [
        "Observation: Polarity of the tweets are balanced."
      ]
    },
    {
      "cell_type": "markdown",
      "metadata": {
        "id": "ewlnaQglS8s4"
      },
      "source": [
        "**3. Word cloud**"
      ]
    },
    {
      "cell_type": "code",
      "metadata": {
        "id": "ctpRLLDJZGma"
      },
      "source": [
        "# Word cloud for text after text processing\n",
        "plot_wordcloud(data['Text'], title=\"Word Cloud of text\")\n",
        "plt.show()"
      ],
      "execution_count": null,
      "outputs": []
    },
    {
      "cell_type": "code",
      "metadata": {
        "id": "LZu5TRbJf4QJ"
      },
      "source": [
        "# Word cloud for positive tweets\n",
        "positive_tweets = data[data['TweetPolarity']=='Positive']\n",
        "plot_wordcloud(positive_tweets['Text'], title=\"Word Cloud of positive tweets\")\n",
        "plt.show()"
      ],
      "execution_count": null,
      "outputs": []
    },
    {
      "cell_type": "code",
      "metadata": {
        "id": "y20QpNTFfe4o"
      },
      "source": [
        "# Word cloud for negative tweets\n",
        "negative_tweets = data[data['TweetPolarity']=='Negative']\n",
        "plot_wordcloud(negative_tweets['Text'], title=\"Word Cloud of negative tweets\")\n",
        "plt.show()"
      ],
      "execution_count": null,
      "outputs": []
    },
    {
      "cell_type": "markdown",
      "metadata": {
        "id": "KbgUpBOkTl8R"
      },
      "source": [
        "**Label encoding**"
      ]
    },
    {
      "cell_type": "markdown",
      "metadata": {
        "id": "mQu8CzHST8zC"
      },
      "source": [
        "Label encoding is a process by which categorical variables are converted into new (binary) numbers, indicating the presence of each possible value from the original data."
      ]
    },
    {
      "cell_type": "code",
      "metadata": {
        "id": "BNdc38zrUMm3"
      },
      "source": [
        "# Label encoder\n",
        "from sklearn.preprocessing import LabelEncoder\n",
        "encoder=LabelEncoder()\n",
        "data['TweetPolarity']=encoder.fit_transform(data['TweetPolarity'])"
      ],
      "execution_count": null,
      "outputs": []
    },
    {
      "cell_type": "markdown",
      "metadata": {
        "id": "j7xglRqj4SaW"
      },
      "source": [
        "#**VI. Model Development and Performance Evaluation**"
      ]
    },
    {
      "cell_type": "markdown",
      "metadata": {
        "id": "MqetBV2YeweU"
      },
      "source": [
        "**A. Dataset Splitting**"
      ]
    },
    {
      "cell_type": "markdown",
      "metadata": {
        "id": "7wwdofr9xE9r"
      },
      "source": [
        "Splitting the dataset into train set and test set in the ratio of 75:25 respectively"
      ]
    },
    {
      "cell_type": "code",
      "metadata": {
        "id": "ridR45KvffTJ"
      },
      "source": [
        "# Columns\n",
        "data.columns"
      ],
      "execution_count": null,
      "outputs": []
    },
    {
      "cell_type": "markdown",
      "metadata": {
        "id": "EqwksWaMZa5m"
      },
      "source": [
        "Observation: Need to drop the columns other than Text and TweetPolarity to train and classify the sentiments"
      ]
    },
    {
      "cell_type": "code",
      "metadata": {
        "id": "5KfUItvUH968"
      },
      "source": [
        "# Choosing features for model building\n",
        "X = data.drop(['TweetID', 'TweetDate', 'Flag', 'UserName','TweetPolarity'], axis=1)\n",
        "# Target variable is polaity of the tweets\n",
        "y=pd.DataFrame(data['TweetPolarity'])"
      ],
      "execution_count": 54,
      "outputs": []
    },
    {
      "cell_type": "code",
      "metadata": {
        "id": "18R8MoL4eZxN"
      },
      "source": [
        "# Datatypes\n",
        "data.dtypes"
      ],
      "execution_count": null,
      "outputs": []
    },
    {
      "cell_type": "markdown",
      "metadata": {
        "id": "uAj-P1LfZgsK"
      },
      "source": [
        "Observation: Datatypes of Text and TweetPolarity are as required for the model building"
      ]
    },
    {
      "cell_type": "code",
      "metadata": {
        "id": "MNm_Ix_njN7U"
      },
      "source": [
        "# Splitting the dataset in the ratio of 80:20 respectively as train and test set\n",
        "X_train, X_test, y_train, y_test = train_test_split(X, y, test_size = 0.2, random_state = 42)"
      ],
      "execution_count": 55,
      "outputs": []
    },
    {
      "cell_type": "code",
      "metadata": {
        "colab": {
          "base_uri": "https://localhost:8080/"
        },
        "id": "9BBJTZ7Dn1aG",
        "outputId": "d218c41b-79d7-48d8-a119-b717a1ce2eeb"
      },
      "source": [
        "# Shape of training set\n",
        "X_train.shape, y_train.shape"
      ],
      "execution_count": 56,
      "outputs": [
        {
          "output_type": "execute_result",
          "data": {
            "text/plain": [
              "((1279999, 1), (1279999, 1))"
            ]
          },
          "metadata": {},
          "execution_count": 56
        }
      ]
    },
    {
      "cell_type": "code",
      "metadata": {
        "colab": {
          "base_uri": "https://localhost:8080/"
        },
        "id": "PmFVTcB-n5Xa",
        "outputId": "866a8568-87ab-441d-f7e4-16d856531782"
      },
      "source": [
        "# Shape of testing set\n",
        "X_test.shape, y_test.shape"
      ],
      "execution_count": 57,
      "outputs": [
        {
          "output_type": "execute_result",
          "data": {
            "text/plain": [
              "((320000, 1), (320000, 1))"
            ]
          },
          "metadata": {},
          "execution_count": 57
        }
      ]
    },
    {
      "cell_type": "markdown",
      "metadata": {
        "id": "W_PXl1YZc18z"
      },
      "source": [
        "**B. Deep learning models**"
      ]
    },
    {
      "cell_type": "markdown",
      "metadata": {
        "id": "B_nEOguhxecG"
      },
      "source": [
        "Fitting the training set into deep learing models to predict the polarity of tweets"
      ]
    },
    {
      "cell_type": "markdown",
      "metadata": {
        "id": "NdihkaIeoTtL"
      },
      "source": [
        "**Tokenization**"
      ]
    },
    {
      "cell_type": "markdown",
      "metadata": {
        "id": "nxMV9dOpoRQu"
      },
      "source": [
        "Given a character sequence and a defined document unit, tokenization is the task of chopping it up into pieces, called tokens , perhaps at the same time throwing away certain characters, such as punctuation. The process is called Tokenization."
      ]
    },
    {
      "cell_type": "code",
      "metadata": {
        "colab": {
          "base_uri": "https://localhost:8080/"
        },
        "id": "QU-yl2GinAuc",
        "outputId": "29584a0e-9372-4237-ea69-34a6af652aa1"
      },
      "source": [
        "from keras.preprocessing.text import Tokenizer\n",
        "\n",
        "tokenizer = Tokenizer()\n",
        "tokenizer.fit_on_texts(X_train.Text)\n",
        "\n",
        "word_index = tokenizer.word_index\n",
        "vocab_size = len(tokenizer.word_index) + 1\n",
        "print(\"Vocabulary Size :\", vocab_size)"
      ],
      "execution_count": 58,
      "outputs": [
        {
          "output_type": "stream",
          "text": [
            "Vocabulary Size : 290442\n"
          ],
          "name": "stdout"
        }
      ]
    },
    {
      "cell_type": "markdown",
      "metadata": {
        "id": "23mz_wQl2-9D"
      },
      "source": [
        "Since this notebook is to build a sequence model, sequence of numbers should be fed into it. There should be no variance in input shapes of sequences. It all should be of same lenght. But texts in tweets have different count of words in it. Pad_sequence can be used to make all the sequences in one constant length MAX_SEQUENCE_LENGTH."
      ]
    },
    {
      "cell_type": "code",
      "metadata": {
        "id": "iXU14z8UptNY"
      },
      "source": [
        "# Maximum nuber of words and maximum sequence length\n",
        "MAX_NB_WORDS = 100000\n",
        "MAX_SEQUENCE_LENGTH = 30"
      ],
      "execution_count": 59,
      "outputs": []
    },
    {
      "cell_type": "code",
      "metadata": {
        "id": "JRBF66Xdo6RS"
      },
      "source": [
        "# Converting all the sequences in one constant length\n",
        "from keras.preprocessing.sequence import pad_sequences\n",
        "\n",
        "Xtrain = pad_sequences(tokenizer.texts_to_sequences(X_train.Text),\n",
        "                        maxlen = MAX_SEQUENCE_LENGTH)\n",
        "Xtest = pad_sequences(tokenizer.texts_to_sequences(X_test.Text),\n",
        "                       maxlen = MAX_SEQUENCE_LENGTH)"
      ],
      "execution_count": 60,
      "outputs": []
    },
    {
      "cell_type": "markdown",
      "metadata": {
        "id": "8i1_62y65lJl"
      },
      "source": [
        "**Word embedding**"
      ]
    },
    {
      "cell_type": "markdown",
      "metadata": {
        "id": "jn1IUXE34LDb"
      },
      "source": [
        "Word Embedding is one of the popular representation of document vocabulary.It is capable of capturing context of a word in a document, semantic and syntactic similarity, relation with other words, etc.\n",
        "\n",
        "Basically, it's a feature vector representation of words which are used for other natural language processing applications.\n",
        "\n",
        "Going in the path of Computer Vision, Transfer Learning is used here. After downloading the pre-trained embedding it can be used in building model.\n",
        "\n",
        "The pretrained Word Embedding like GloVe & Word2Vec gives more insights for a word which can be used for classification."
      ]
    },
    {
      "cell_type": "code",
      "metadata": {
        "colab": {
          "base_uri": "https://localhost:8080/"
        },
        "id": "pF2nEC6zjdrL",
        "outputId": "47f9734b-14f2-48b0-fe5a-5bf00492e099"
      },
      "source": [
        "# Downloading the zip file\n",
        "!wget http://nlp.stanford.edu/data/glove.6B.zip\n",
        "# Unzipping the downloaded file\n",
        "!unzip glove.6B.zip"
      ],
      "execution_count": 41,
      "outputs": [
        {
          "output_type": "stream",
          "text": [
            "--2021-08-27 12:21:08--  http://nlp.stanford.edu/data/glove.6B.zip\n",
            "Resolving nlp.stanford.edu (nlp.stanford.edu)... 171.64.67.140\n",
            "Connecting to nlp.stanford.edu (nlp.stanford.edu)|171.64.67.140|:80... connected.\n",
            "HTTP request sent, awaiting response... 302 Found\n",
            "Location: https://nlp.stanford.edu/data/glove.6B.zip [following]\n",
            "--2021-08-27 12:21:08--  https://nlp.stanford.edu/data/glove.6B.zip\n",
            "Connecting to nlp.stanford.edu (nlp.stanford.edu)|171.64.67.140|:443... connected.\n",
            "HTTP request sent, awaiting response... 301 Moved Permanently\n",
            "Location: http://downloads.cs.stanford.edu/nlp/data/glove.6B.zip [following]\n",
            "--2021-08-27 12:21:08--  http://downloads.cs.stanford.edu/nlp/data/glove.6B.zip\n",
            "Resolving downloads.cs.stanford.edu (downloads.cs.stanford.edu)... 171.64.64.22\n",
            "Connecting to downloads.cs.stanford.edu (downloads.cs.stanford.edu)|171.64.64.22|:80... connected.\n",
            "HTTP request sent, awaiting response... 200 OK\n",
            "Length: 862182613 (822M) [application/zip]\n",
            "Saving to: ‘glove.6B.zip’\n",
            "\n",
            "glove.6B.zip        100%[===================>] 822.24M  3.66MB/s    in 2m 42s  \n",
            "\n",
            "2021-08-27 12:23:50 (5.08 MB/s) - ‘glove.6B.zip’ saved [862182613/862182613]\n",
            "\n",
            "Archive:  glove.6B.zip\n",
            "  inflating: glove.6B.50d.txt        \n",
            "  inflating: glove.6B.100d.txt       \n",
            "  inflating: glove.6B.200d.txt       \n",
            "  inflating: glove.6B.300d.txt       \n"
          ],
          "name": "stdout"
        }
      ]
    },
    {
      "cell_type": "code",
      "metadata": {
        "colab": {
          "base_uri": "https://localhost:8080/"
        },
        "id": "w1MoWIajkJAJ",
        "outputId": "4409fcb4-f84d-40dd-a7ac-70622b61129d"
      },
      "source": [
        "# Get the exact path of where the embedding vectors are extracted using\n",
        "!ls\n",
        "!pwd"
      ],
      "execution_count": 42,
      "outputs": [
        {
          "output_type": "stream",
          "text": [
            "drive\t\t   glove.6B.200d.txt  glove.6B.50d.txt\tsample_data\n",
            "glove.6B.100d.txt  glove.6B.300d.txt  glove.6B.zip\n",
            "/content\n"
          ],
          "name": "stdout"
        }
      ]
    },
    {
      "cell_type": "code",
      "metadata": {
        "id": "zjRPyGUXksLJ"
      },
      "source": [
        "# Defining parameters for word embedding\n",
        "GLOVE_EMB = '/content/glove.6B.300d.txt'\n",
        "EMBEDDING_DIM = 300\n",
        "LR = 1e-3\n",
        "BATCH_SIZE = 1024\n",
        "EPOCHS = 10"
      ],
      "execution_count": 61,
      "outputs": []
    },
    {
      "cell_type": "code",
      "metadata": {
        "id": "-ZCEIgE-k-vV"
      },
      "source": [
        "# Indexing the vectors\n",
        "embeddings_index = {}\n",
        "\n",
        "f = open(GLOVE_EMB)\n",
        "for line in f:\n",
        "  values = line.split()\n",
        "  word = value = values[0]\n",
        "  coefs = np.asarray(values[1:], dtype='float32')\n",
        "  embeddings_index[word] = coefs\n",
        "f.close()"
      ],
      "execution_count": 62,
      "outputs": []
    },
    {
      "cell_type": "code",
      "metadata": {
        "id": "6gPeLTERlH9e"
      },
      "source": [
        "# Embedding matrix\n",
        "embedding_matrix = np.zeros((vocab_size, EMBEDDING_DIM))\n",
        "for word, i in word_index.items():\n",
        "  embedding_vector = embeddings_index.get(word)\n",
        "  if embedding_vector is not None:\n",
        "    embedding_matrix[i] = embedding_vector"
      ],
      "execution_count": 63,
      "outputs": []
    },
    {
      "cell_type": "code",
      "metadata": {
        "id": "HuljVBI_leCo"
      },
      "source": [
        "# Embedding layer\n",
        "import tensorflow as tf\n",
        "embedding_layer = tf.keras.layers.Embedding(vocab_size,\n",
        "                                          EMBEDDING_DIM,\n",
        "                                          weights=[embedding_matrix],\n",
        "                                          input_length=MAX_SEQUENCE_LENGTH,\n",
        "                                          trainable=False)"
      ],
      "execution_count": 64,
      "outputs": []
    },
    {
      "cell_type": "markdown",
      "metadata": {
        "id": "GqbBNveT5-Td"
      },
      "source": [
        "As shown in the word cloud, the some words are predominantly feature in both Positive and Negative tweets. This could be a problem while using a Machine Learning model like Naive Bayes, SVD, etc.. Hence Sequence Models can be used\n",
        "\n",
        "\n",
        "Model architecture\n",
        "\n",
        "1) Embedding Layer - Generates Embedding Vector for each input sequence.\n",
        "\n",
        "2) Conv1D Layer - Its using to convolve data into smaller feature vectors.\n",
        "\n",
        "3) LSTM - Long Short Term Memory, its a variant of RNN which has memory state cell to learn the context of words which are at further along the text to carry contextual meaning rather than just neighbouring words as in case of RNN.\n",
        "\n",
        "4) Dense - Fully Connected Layers for classification"
      ]
    },
    {
      "cell_type": "code",
      "metadata": {
        "id": "SfMeVyX7lM_K"
      },
      "source": [
        "# Importing modules from tensorflow\n",
        "from tensorflow.keras.layers import Conv1D, Bidirectional, LSTM, Dense, Input, Dropout\n",
        "from tensorflow.keras.layers import SpatialDropout1D\n",
        "from tensorflow.keras.callbacks import ModelCheckpoint"
      ],
      "execution_count": 65,
      "outputs": []
    },
    {
      "cell_type": "code",
      "metadata": {
        "colab": {
          "base_uri": "https://localhost:8080/"
        },
        "id": "v8lzZSFTlTdS",
        "outputId": "10e84270-c6cf-495d-932f-67989a43df81"
      },
      "source": [
        "# Model building\n",
        "sequence_input = Input(shape=(MAX_SEQUENCE_LENGTH,), dtype='int32')\n",
        "embedding_sequences = embedding_layer(sequence_input)\n",
        "x = SpatialDropout1D(0.2)(embedding_sequences)\n",
        "x = Conv1D(64, 5, activation='relu')(x)\n",
        "x = Bidirectional(LSTM(64, dropout=0.2, recurrent_dropout=0.2))(x)\n",
        "x = Dense(512, activation='relu')(x)\n",
        "x = Dropout(0.5)(x)\n",
        "x = Dense(512, activation='relu')(x)\n",
        "outputs = Dense(1, activation='sigmoid')(x)\n",
        "model = tf.keras.Model(sequence_input, outputs)"
      ],
      "execution_count": 66,
      "outputs": [
        {
          "output_type": "stream",
          "text": [
            "WARNING:tensorflow:Layer lstm_1 will not use cuDNN kernels since it doesn't meet the criteria. It will use a generic GPU kernel as fallback when running on GPU.\n",
            "WARNING:tensorflow:Layer lstm_1 will not use cuDNN kernels since it doesn't meet the criteria. It will use a generic GPU kernel as fallback when running on GPU.\n",
            "WARNING:tensorflow:Layer lstm_1 will not use cuDNN kernels since it doesn't meet the criteria. It will use a generic GPU kernel as fallback when running on GPU.\n"
          ],
          "name": "stdout"
        }
      ]
    },
    {
      "cell_type": "markdown",
      "metadata": {
        "id": "RWGeelAY7O6x"
      },
      "source": [
        "**Optimization Algorithm**\n"
      ]
    },
    {
      "cell_type": "markdown",
      "metadata": {
        "id": "_4Q8MWnu7T32"
      },
      "source": [
        "Adam optimization algorithm is a stochastic gradient descent method that is based on adaptive estimation of first-order and second-order moments"
      ]
    },
    {
      "cell_type": "code",
      "metadata": {
        "id": "jK6CDXhWmIjd"
      },
      "source": [
        "# Model compiling\n",
        "from tensorflow.keras.optimizers import Adam\n",
        "\n",
        "model.compile(optimizer=Adam(learning_rate=LR), loss='binary_crossentropy',\n",
        "              metrics=['accuracy'])"
      ],
      "execution_count": 67,
      "outputs": []
    },
    {
      "cell_type": "markdown",
      "metadata": {
        "id": "mZDJ8j1T8KJU"
      },
      "source": [
        "**Callbacks**\n",
        "\n",
        "Callbacks are special functions which are called at the end of an epoch. We can use any functions to perform specific operation after each epoch. \n",
        "\n",
        "LRScheduler - It changes a Learning Rate at specfic epoch to achieve more improved result. In this notebook, the learning rate exponentionally decreases after remaining same for first 10 Epoch.\n",
        "\n",
        "ModelCheckPoint - It saves best model while training based on some metrics. Here, it saves the model with minimum Validity Loss."
      ]
    },
    {
      "cell_type": "code",
      "metadata": {
        "id": "qcRaaM8777oR"
      },
      "source": [
        "# call backs\n",
        "from tensorflow.keras.callbacks import ReduceLROnPlateau\n",
        "ReduceLROnPlateau = ReduceLROnPlateau(factor=0.1,\n",
        "                                     min_lr = 0.01,\n",
        "                                     monitor = 'val_loss',\n",
        "                                     verbose = 1)"
      ],
      "execution_count": null,
      "outputs": []
    },
    {
      "cell_type": "code",
      "metadata": {
        "colab": {
          "base_uri": "https://localhost:8080/"
        },
        "id": "QgqFpNvrmPGS",
        "outputId": "d56b9071-1e8c-4c9e-b1f5-83cab47099e0"
      },
      "source": [
        "# Fitting the model\n",
        "history = model.fit(Xtrain, y_train, batch_size=BATCH_SIZE, epochs=EPOCHS,\n",
        "                    validation_data=(Xtest, y_test), callbacks=[ReduceLROnPlateau])"
      ],
      "execution_count": 68,
      "outputs": [
        {
          "output_type": "stream",
          "text": [
            "Epoch 1/10\n",
            "1250/1250 [==============================] - 530s 419ms/step - loss: 0.5193 - accuracy: 0.7391 - val_loss: 0.4859 - val_accuracy: 0.7651\n",
            "Epoch 2/10\n",
            "1250/1250 [==============================] - 516s 413ms/step - loss: 0.4876 - accuracy: 0.7622 - val_loss: 0.4727 - val_accuracy: 0.7733\n",
            "Epoch 3/10\n",
            "1250/1250 [==============================] - 533s 426ms/step - loss: 0.4768 - accuracy: 0.7692 - val_loss: 0.4666 - val_accuracy: 0.7760\n",
            "Epoch 4/10\n",
            "1250/1250 [==============================] - 514s 411ms/step - loss: 0.4708 - accuracy: 0.7732 - val_loss: 0.4659 - val_accuracy: 0.7753\n",
            "Epoch 5/10\n",
            "1250/1250 [==============================] - 528s 422ms/step - loss: 0.4661 - accuracy: 0.7762 - val_loss: 0.4630 - val_accuracy: 0.7793\n",
            "Epoch 6/10\n",
            "1250/1250 [==============================] - 520s 416ms/step - loss: 0.4629 - accuracy: 0.7783 - val_loss: 0.4625 - val_accuracy: 0.7800\n",
            "Epoch 7/10\n",
            "1250/1250 [==============================] - 520s 416ms/step - loss: 0.4602 - accuracy: 0.7795 - val_loss: 0.4603 - val_accuracy: 0.7810\n",
            "Epoch 8/10\n",
            "1250/1250 [==============================] - 537s 429ms/step - loss: 0.4578 - accuracy: 0.7813 - val_loss: 0.4581 - val_accuracy: 0.7818\n",
            "Epoch 9/10\n",
            "1250/1250 [==============================] - 541s 433ms/step - loss: 0.4560 - accuracy: 0.7823 - val_loss: 0.4577 - val_accuracy: 0.7822\n",
            "Epoch 10/10\n",
            "1250/1250 [==============================] - 546s 437ms/step - loss: 0.4542 - accuracy: 0.7837 - val_loss: 0.4600 - val_accuracy: 0.7827\n"
          ],
          "name": "stdout"
        }
      ]
    },
    {
      "cell_type": "markdown",
      "metadata": {
        "id": "tMGZ_MXF8jKz"
      },
      "source": [
        "**C. Model Evaluation**"
      ]
    },
    {
      "cell_type": "markdown",
      "metadata": {
        "id": "ShuddRG18wgx"
      },
      "source": [
        "Evaluating the performance of models using Learning Curve of loss, confusion matrix and classification report"
      ]
    },
    {
      "cell_type": "code",
      "metadata": {
        "id": "9vKCR-MG-0ta"
      },
      "source": [
        "from sklearn.metrics import confusion_matrix, classification_report, accuracy_score"
      ],
      "execution_count": 71,
      "outputs": []
    },
    {
      "cell_type": "code",
      "metadata": {
        "colab": {
          "base_uri": "https://localhost:8080/",
          "height": 637
        },
        "id": "5d7WxLDHmwBX",
        "outputId": "a4f38006-b4c0-4e09-c9c0-6ae7d45e409b"
      },
      "source": [
        "# Learning Curve of loss and accuracy of the model on each epoch.\n",
        "s, (at, al) = plt.subplots(2,1)\n",
        "at.plot(history.history['accuracy'], c= 'b')\n",
        "at.plot(history.history['val_accuracy'], c='r')\n",
        "at.set_title('model accuracy')\n",
        "at.set_ylabel('accuracy')\n",
        "at.set_xlabel('epoch')\n",
        "at.legend(['LSTM_train', 'LSTM_val'], loc='upper left')\n",
        "\n",
        "al.plot(history.history['loss'], c='m')\n",
        "al.plot(history.history['val_loss'], c='c')\n",
        "al.set_title('model loss')\n",
        "al.set_ylabel('loss')\n",
        "al.set_xlabel('epoch')\n",
        "al.legend(['train', 'val'], loc = 'upper left')"
      ],
      "execution_count": 69,
      "outputs": [
        {
          "output_type": "execute_result",
          "data": {
            "text/plain": [
              "<matplotlib.legend.Legend at 0x7f5950f61450>"
            ]
          },
          "metadata": {},
          "execution_count": 69
        },
        {
          "output_type": "display_data",
          "data": {
            "image/png": "[encoded data removed]",
            "text/plain": [
              "<Figure size 720x720 with 2 Axes>"
            ]
          },
          "metadata": {
            "needs_background": "light"
          }
        }
      ]
    },
    {
      "cell_type": "markdown",
      "metadata": {
        "id": "_KAjY9v89XOk"
      },
      "source": [
        "The model outputs a prediction score between 0 and 1 which could be classified into  two classes by defining a threshold value for it.\n",
        "\n",
        "Threshold value=0.5\n",
        "0.5 < sentiment, POSITIVE sentiment\n",
        "0.5 > sentiment, NEGATIVE sentiment"
      ]
    },
    {
      "cell_type": "code",
      "metadata": {
        "colab": {
          "base_uri": "https://localhost:8080/"
        },
        "id": "aaW0vjqZ1agu",
        "outputId": "541da36e-70f3-4cbe-e1da-24ce52da981d"
      },
      "source": [
        "# Mapping sentiments as positive ang negative\n",
        "def decode_sentiment(score):\n",
        "    return 1 if score>0.5 else 0\n",
        "\n",
        "scores = model.predict(Xtest, verbose=1, batch_size=10000)\n",
        "y_pred_1d = [decode_sentiment(score) for score in scores]"
      ],
      "execution_count": 115,
      "outputs": [
        {
          "output_type": "stream",
          "text": [
            "32/32 [==============================] - 4s 128ms/step\n"
          ],
          "name": "stdout"
        }
      ]
    },
    {
      "cell_type": "code",
      "metadata": {
        "colab": {
          "base_uri": "https://localhost:8080/"
        },
        "id": "7jOb1Gty1hsA",
        "outputId": "580ab2ef-31eb-449e-d22b-91562b073519"
      },
      "source": [
        "# Classification report of metrics for evaluating the model\n",
        "print(classification_report(list(y_test.TweetPolarity), y_pred_1d))"
      ],
      "execution_count": 116,
      "outputs": [
        {
          "output_type": "stream",
          "text": [
            "              precision    recall  f1-score   support\n",
            "\n",
            "           0       0.79      0.77      0.78    159494\n",
            "           1       0.78      0.80      0.79    160506\n",
            "\n",
            "    accuracy                           0.78    320000\n",
            "   macro avg       0.78      0.78      0.78    320000\n",
            "weighted avg       0.78      0.78      0.78    320000\n",
            "\n"
          ],
          "name": "stdout"
        }
      ]
    },
    {
      "cell_type": "code",
      "metadata": {
        "id": "02W68ZR7jzI3"
      },
      "source": [
        "# Function to plot confusion matrix\n",
        "import itertools\n",
        "\n",
        "def plot_confusion_matrix(cm, classes,\n",
        "                          title='Confusion matrix',\n",
        "                          cmap=plt.cm.Blues):\n",
        "    \"\"\"\n",
        "    This function prints and plots the confusion matrix.\n",
        "    Normalization can be applied by setting `normalize=True`.\n",
        "    \"\"\"\n",
        "\n",
        "    cm = cm.astype('float') / cm.sum(axis=1)[:, np.newaxis]\n",
        "\n",
        "    plt.imshow(cm, interpolation='nearest', cmap=cmap)\n",
        "    plt.title(title, fontsize=20)\n",
        "    plt.colorbar()\n",
        "    tick_marks = np.arange(len(classes))\n",
        "    plt.xticks(tick_marks, classes, fontsize=13)\n",
        "    plt.yticks(tick_marks, classes, fontsize=13)\n",
        "\n",
        "    fmt = '.2f'\n",
        "    thresh = cm.max() / 2.\n",
        "    for i, j in itertools.product(range(cm.shape[0]), range(cm.shape[1])):\n",
        "        plt.text(j, i, format(cm[i, j], fmt),\n",
        "                 horizontalalignment=\"center\",\n",
        "                 color=\"white\" if cm[i, j] > thresh else \"black\")\n",
        "    plt.ylabel('True label', fontsize=17)\n",
        "    plt.xlabel('Predicted label', fontsize=17)"
      ],
      "execution_count": 85,
      "outputs": []
    },
    {
      "cell_type": "code",
      "metadata": {
        "colab": {
          "base_uri": "https://localhost:8080/",
          "height": 370
        },
        "id": "HmSgjYgqDWPB",
        "outputId": "3a3e4197-272c-487e-db26-e377210e2b2b"
      },
      "source": [
        "# Plotting confusion matrix\n",
        "cnf_matrix = confusion_matrix(y_test.TweetPolarity.to_list(), y_pred_1d)\n",
        "plt.figure(figsize=(6,6))\n",
        "plot_confusion_matrix(cnf_matrix, classes=y_test.TweetPolarity.unique(), title=\"Confusion matrix\")\n",
        "plt.show()"
      ],
      "execution_count": 117,
      "outputs": [
        {
          "output_type": "display_data",
          "data": {
            "image/png": "[encoded data removed]",
            "text/plain": [
              "<Figure size 432x432 with 2 Axes>"
            ]
          },
          "metadata": {
            "needs_background": "light"
          }
        }
      ]
    },
    {
      "cell_type": "markdown",
      "metadata": {
        "id": "bQOI1P8SL3ZR"
      },
      "source": [
        "# **VII. Conclusion**\n",
        "\n",
        "---\n",
        "\n"
      ]
    },
    {
      "cell_type": "markdown",
      "metadata": {
        "id": "_RP3c_tYLNRB"
      },
      "source": [
        "Sequence model has achieved a desirable accuracy of 80% considering the baseline human accuracy is low in NLP tasks."
      ]
    }
  ]
}